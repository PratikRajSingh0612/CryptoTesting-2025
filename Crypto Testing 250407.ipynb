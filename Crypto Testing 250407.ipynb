{
 "cells": [
  {
   "cell_type": "code",
   "execution_count": null,
   "id": "e2b4610e",
   "metadata": {},
   "outputs": [],
   "source": [
    "import os\n",
    "api_key = os.getenv(\"CoinDCX_APIKey1\")\n",
    "secret_key = os.getenv(\"CoinDCX_SecretKey1\")"
   ]
  },
  {
   "cell_type": "code",
   "execution_count": null,
   "id": "a83ad22d",
   "metadata": {},
   "outputs": [],
   "source": [
    "from Util1 import *\n"
   ]
  },
  {
   "cell_type": "code",
   "execution_count": null,
   "id": "cf931d5b",
   "metadata": {},
   "outputs": [],
   "source": [
    "# All URLs\n",
    "marketURL = \"https://api.coindcx.com/exchange/v1/markets\"\n",
    "marketDetailsURL = \"https://api.coindcx.com/exchange/v1/markets_details\"\n",
    "candlesURL = r\"https://public.coindcx.com/market_data/candles?\"\n",
    "balanceURL = \"https://api.coindcx.com/exchange/v1/users/balances\"\n",
    "priceURL = \"https://public.coindcx.com/market_data/trade_history\""
   ]
  },
  {
   "cell_type": "code",
   "execution_count": null,
   "id": "7293808c",
   "metadata": {},
   "outputs": [],
   "source": [
    "MarketDetails = getMarketDetails(marketDetailsURL)\n",
    "\n",
    "# Extract unique pairs\n",
    "pairs = MarketDetails['pair'].unique()"
   ]
  },
  {
   "cell_type": "code",
   "execution_count": null,
   "id": "9e8bff19",
   "metadata": {},
   "outputs": [],
   "source": []
  }
 ],
 "metadata": {
  "kernelspec": {
   "display_name": "Python 3",
   "language": "python",
   "name": "python3"
  },
  "language_info": {
   "codemirror_mode": {
    "name": "ipython",
    "version": 3
   },
   "file_extension": ".py",
   "mimetype": "text/x-python",
   "name": "python",
   "nbconvert_exporter": "python",
   "pygments_lexer": "ipython3",
   "version": "3.9.6"
  }
 },
 "nbformat": 4,
 "nbformat_minor": 5
}
